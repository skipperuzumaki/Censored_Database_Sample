{
  "nbformat": 4,
  "nbformat_minor": 0,
  "metadata": {
    "colab": {
      "name": "Copy of (Naive Bayes Custom)Jatin_Rishi_18BCS060_Part_1.ipynb",
      "provenance": [],
      "collapsed_sections": [],
      "include_colab_link": true
    },
    "kernelspec": {
      "name": "python3",
      "display_name": "Python 3"
    },
    "language_info": {
      "name": "python"
    },
    "accelerator": "GPU"
  },
  "cells": [
    {
      "cell_type": "markdown",
      "metadata": {
        "id": "view-in-github",
        "colab_type": "text"
      },
      "source": [
        "<a href=\"https://colab.research.google.com/github/skipperuzumaki/Censored_Database_Sample/blob/main/Copy_of_(Naive_Bayes_Custom)Jatin_Rishi_18BCS060_Part_1.ipynb\" target=\"_parent\"><img src=\"https://colab.research.google.com/assets/colab-badge.svg\" alt=\"Open In Colab\"/></a>"
      ]
    },
    {
      "cell_type": "code",
      "execution_count": null,
      "metadata": {
        "id": "764KEsJGyjwy"
      },
      "outputs": [],
      "source": [
        "from sklearn.feature_extraction.text import TfidfVectorizer, CountVectorizer\n",
        "from sklearn.naive_bayes import MultinomialNB\n",
        "from sklearn import metrics\n",
        "import pandas as pd"
      ]
    },
    {
      "cell_type": "code",
      "source": [
        "c_sv = []\n",
        "\n",
        "with open('Dataset.csv','r',encoding='ISO-8859-1') as f:\n",
        "  a = f.readlines()\n",
        "  c_sv = [[_.lower() for _ in l.split(',')] for l in a]\n",
        "\n",
        "train_X = [i[1] for i in c_sv[10:]]\n",
        "train_y = [i[0] for i in c_sv[10:]]\n",
        "test_X = [i[1] for i in c_sv[1:10]]\n",
        "test_y = [i[0] for i in c_sv[1:10]]\n",
        "print(train_X)"
      ],
      "metadata": {
        "colab": {
          "base_uri": "https://localhost:8080/"
        },
        "id": "aBnCtRXDyqzH",
        "outputId": "8e874239-164a-4181-ef39-0793aba4da6e"
      },
      "execution_count": null,
      "outputs": [
        {
          "output_type": "stream",
          "name": "stdout",
          "text": [
            "['had your mobile 11 months or more? u r entitled to update to the latest colour mobiles with camera for free! call the mobile update co free on 08002986030', '\"i\\'m gonna be home soon and i don\\'t want to talk about this stuff anymore tonight', '\"six chances to win cash! from 100 to 20', '\"urgent! you have won a 1 week free membership in our å£100', \"i've been searching for the right words to thank you for this breather. i promise i wont take your help for granted and will fulfil my promise. you have been wonderful and a blessing at all times.\", 'i have a date on sunday with will!!', '\"xxxmobilemovieclub: to use your credit', \"oh k...i'm watching here:)\", 'eh u remember how 2 spell his name... yes i did. he v naughty make until i v wet.', 'fine if thatåõs the way u feel. thatåõs the way its gota b', '\"england v macedonia - dont miss the goals/team news. txt ur national team to 87077 eg england to 87077 try:wales', 'is that seriously how you spell his name?', 'i\\x89û÷m going to try for 2 months ha ha only joking', 'so ì_ pay first lar... then when is da stock comin...', 'aft i finish my lunch then i go str down lor. ard 3 smth lor. u finish ur lunch already?', 'ffffffffff. alright no way i can meet up with you sooner?', \"just forced myself to eat a slice. i'm really not hungry tho. this sucks. mark is getting worried. he knows i'm sick when i turn down pizza. lol\", 'lol your always so convincing.', \"did you catch the bus ? are you frying an egg ? did you make a tea? are you eating your mom's left over dinner ? do you feel my love ?\", '\"i\\'m back &amp; we\\'re packing the car now', 'ahhh. work. i vaguely remember that! what does it feel like? lol', '\"wait that\\'s still not all that clear', \"yeah he got in at 2 and was v apologetic. n had fallen out and she was actin like spoilt child and he got caught up in that. till 2! but we won't go there! not doing too badly cheers. you? \", 'k tell me anything about you.', 'for fear of fainting with the of all that housework you just did? quick have a cuppa', 'thanks for your subscription to ringtone uk your mobile will be charged å£5/month please confirm by replying yes or no. if you reply no you will not be charged', 'yup... ok i go home look at the timings then i msg ì_ again... xuhui going to learn on 2nd may too but her lesson is at 8am', '\"oops', 'i see the letter b on my car', 'anything lor... u decide...', \"hello! how's you and how did saturday go? i was just texting to see if you'd decided to do anything tomo. not that i'm trying to invite myself or anything!\", 'pls go ahead with watts. i just wanted to be sure. do have a great weekend. abiola', '\"did i forget to tell you ? i want you ', '07732584351 - rodger burns - msg = we tried to call you re your reply to our sms for a free nokia mobile + free camcorder. please call now 08000930705 for delivery tomorrow', 'who are you seeing?', 'great! i hope you like your man well endowed. i am  &lt;#&gt;  inches...', 'no calls..messages..missed calls', \"didn't you get hep b immunisation in nigeria.\", '\"fair enough', '\"yeah hopefully', \"u don't know how stubborn i am. i didn't even want to go to the hospital. i kept telling mark i'm not a weak sucker. hospitals are for weak suckers.\", 'what you thinked about me. first time you saw me in class.', '\"a gram usually runs like  &lt;#&gt; ', \"k fyi x has a ride early tomorrow morning but he's crashing at our place tonight\", '\"wow. i never realized that you were so embarassed by your accomodations. i thought you liked it', 'sms. ac sptv: the new jersey devils and the detroit red wings play ice hockey. correct or incorrect? end? reply end sptv', 'do you know what mallika sherawat did yesterday? find out now @  &lt;url&gt;', '\"congrats! 1 year special cinema pass for 2 is yours. call 09061209465 now! c suprman v', '\"sorry', 'tell where you reached', 'yes..gauti and sehwag out of odi series.', \"your gonna have to pick up a $1 burger for yourself on your way home. i can't even move. pain is killing me.\", 'ha ha ha good joke. girls are situation seekers.', 'its a part of checking iq', '\"sorry my roommates took forever', 'ok lar i double check wif da hair dresser already he said wun cut v short. he said will cut until i look nice.', '\"as a valued customer', '\"today is \\\\song dedicated day..\\\\\"\" which song will u dedicate for me? send this to all ur valuable frnds but first rply me...\"\"\"', '\"urgent ur awarded a complimentary trip to eurodisinc trav', '\"did you hear about the new \\\\divorce barbie\\\\\"\"? it comes with all of ken\\'s stuff!\"\"\"', 'i plane to give on this month end.', 'wah lucky man... then can save money... hee...', 'finished class where are you.', 'hi babe im at home now wanna do something? xx', 'k..k:)where are you?how did you performed?', 'u can call me now...', 'i am waiting machan. call me once you free.', 'thats cool. i am a gentleman and will treat you with dignity and respect.', 'i like you peoples very much:) but am very shy pa.', 'does not operate after  &lt;#&gt;  or what', \"its not the same here. still looking for a job. how much do ta's earn there.\", '\"sorry', 'k. did you call me just now ah? ', 'ok i am on the way to home hi hi', 'you will be in the place of that man', 'yup next stop.', '\"i call you later', \"for real when u getting on yo? i only need 2 more tickets and one more jacket and i'm done. i already used all my multis.\", \"yes i started to send requests to make it but pain came back so i'm back in bed. double coins at the factory too. i gotta cash in all my nitros.\", \"i'm really not up to it still tonight babe\", '\"ela kano.', 'yeah do! don\\x89û÷t stand to close tho- you\\x89û÷ll catch something!', \"sorry to be a pain. is it ok if we meet another night? i spent late afternoon in casualty and that means i haven't done any of y stuff42moro and that includes all my time sheets and that. sorry. \", 'smile in pleasure smile in pain smile when trouble pours like rain smile when sum1 hurts u smile becoz someone still loves to see u smiling!!', 'please call our customer service representative on 0800 169 6031 between 10am-9pm as you have won a guaranteed å£1000 cash or å£5000 prize!', 'havent planning to buy later. i check already lido only got 530 show in e afternoon. u finish work already?', '\"your free ringtone is waiting to be collected. simply text the password \\\\mix\\\\\"\" to 85069 to verify. get usher and britney. fml\"', 'watching telugu movie..wat abt u?', 'i see. when we finish we have loads of loans to pay', '\"hi. wk been ok - on hols now! yes on for a bit of a run. forgot that i have hairdressers appointment at four so need to get home n shower beforehand. does that cause prob for u?\\\\\"\"\\n', '', \"please don't text me anymore. i have nothing else to say.\", 'okay name ur price as long as its legal! wen can i pick them up? y u ave x ams xx', \"i'm still looking for a car to buy. and have not gone 4the driving test yet.\", \"as per your request 'melle melle (oru minnaminunginte nurungu vettam)' has been set as your callertune for all callers. press *9 to copy your friends callertune\", '\"wow. you\\'re right! i didn\\'t mean to do that. i guess once i gave up on boston men and changed my search location to nyc', 'umma my life and vava umma love you lot dear', 'thanks a lot for your wishes on my birthday. thanks you for making my birthday truly memorable.', '\"aight', \"how would my ip address test that considering my computer isn't a minecraft server\", 'i know! grumpy old people. my mom was like you better not be lying. then again i am always the one to play jokes...', \"dont worry. i guess he's busy.\", 'what is the plural of the noun research?', 'going for dinner.msg you after.', \"i'm ok wif it cos i like 2 try new things. but i scared u dun like mah. cos u said not too loud.\", 'gent! we are trying to contact you. last weekends draw shows that you won a å£1000 prize guaranteed. call 09064012160. claim code k52. valid 12hrs only. 150ppm', '\"wa', '\"as i entered my cabin my pa said', 'you are a winner u have been specially selected 2 receive å£1000 or a 4* holiday (flights inc) speak to a live operator 2 claim 0871277810910p/min (18+) ', 'goodo! yes we must speak friday - egg-potato ratio for tortilla needed! ', \"hmm...my uncle just informed me that he's paying the school directly. so pls buy food.\", 'private! your 2004 account statement for 07742676969 shows 786 unredeemed bonus points. to claim call 08719180248 identifier code: 45239 expires', '\"urgent! your mobile no. was awarded å£2000 bonus caller prize on 5/9/03 this is our final try to contact u! call from landline 09064019788 box42wr29c', 'todays voda numbers ending 7548 are selected to receive a $350 award. if you have a match please call 08712300220 quoting claim code 4041 standard rates app', 'sunshine quiz wkly q! win a top sony dvd player if u know which country the algarve is in? txt ansr to 82277. å£1.50 sp:tyrone', \"want 2 get laid tonight? want real dogging locations sent direct 2 ur mob? join the uk's largest dogging network bt txting gravel to 69888! nt. ec2a. 31p.msg@150p\", \"you'll not rcv any more msgs from the chat svc. for free hardcore services text go to: 69988 if u get nothing u must age verify with yr network & try again\", '\"freemsg why haven\\'t you replied to my text? i\\'m randy', 'customer service annoncement. you have a new years delivery waiting for you. please call 07046744435 now to arrange delivery', 'you are a winner u have been specially selected 2 receive å£1000 cash or a 4* holiday (flights inc) speak to a live operator 2 claim 0871277810810', '-pls stop bootydelious (32/f) is inviting you to be her friend. reply yes-434 or no-434 see her: www.sms.ac/u/bootydelious stop? send stop frnd to 62468', '\"bangbabes ur order is on the way. u should receive a service msg 2 download ur content. if u do not', 'urgent! we are trying to contact you. last weekends draw shows that you have won a å£900 prize guaranteed. call 09061701939. claim code s89. valid 12hrs only', 'please call our customer service representative on freephone 0808 145 4742 between 9am-11pm as you have won a guaranteed å£1000 cash or å£5000 prize!', 'are you unique enough? find out from 30th august. www.areyouunique.co.uk', '\"500 new mobiles from 2004', '\"will u meet ur dream partner soon? is ur career off 2 a flyng start? 2 find out free', 'text & meet someone sexy today. u can find a date or even flirt its up to u. join 4 just 10p. reply with name & age eg sam 25. 18 -msg recd@thirtyeight pence', 'u 447801259231 have a secret admirer who is looking 2 make contact with u-find out who they r*reveal who thinks ur so special-call on 09058094597', 'congratulations ur awarded 500 of cd vouchers or 125gift guaranteed & free entry 2 100 wkly draw txt music to 87066 tncs www.ldew.com1win150ppmx3age16', 'we tried to contact you re your reply to our offer of a video handset? 750 anytime networks mins? unlimited text? camcorder? reply or call 08000930705 now', 'hey i am really horny want to chat or see me naked text hot to 69698 text charged at 150pm to unsubscribe text stop 69698', 'ur ringtone service has changed! 25 free credits! go to club4mobiles.com to choose content now! stop? txt club stop to 87070. 150p/wk club4 po box1146 mk45 2wt', 'ringtone club: get the uk singles chart on your mobile each week and choose any top quality ringtone! this message is free of charge.', 'hmv bonus special 500 pounds of genuine hmv vouchers to be won. just answer 4 easy questions. play now! send hmv to 86688 more info:www.100percent-real.com', \"t-mobile customer you may now claim your free camera phone upgrade & a pay & go sim card for your loyalty. call on 0845 021 3680.offer ends 28thfeb.t&c's apply\", '\"sms. ac blind date 4u!: rodds1 is 21/m from aberdeen', '\"themob> check out our newest selection of content', '\"think ur smart ? win å£200 this week in our weekly quiz', 'december only! had your mobile 11mths+? you are entitled to update to the latest colour camera mobile for free! call the mobile update co free on 08002986906', 'call germany for only 1 pence per minute! call from a fixed line via access number 0844 861 85 85. no prepayment. direct access!', 'valentines day special! win over å£1000 in our quiz and take your partner on the trip of a lifetime! send go to 83600 now. 150p/msg rcvd. custcare:08718720201.', 'fancy a shag? i do.interested? sextextuk.com txt xxuk suzy to 69876. txts cost 1.50 per msg. tncs on website. x', 'congratulations ur awarded 500 of cd vouchers or 125gift guaranteed & free entry 2 100 wkly draw txt music to 87066 tncs www.ldew.com1win150ppmx3age16', 'ur cash-balance is currently 500 pounds - to maximize ur cash-in now send cash to 86688 only 150p/msg. cc: 08708800282 hg/suite342/2lands row/w1j6hl', '\"update_now - xmas offer! latest motorola', 'here is your discount code rp176781. to stop further messages reply stop. www.regalportfolio.co.uk. customer services 08717205546', '\"thanks for your ringtone order', '\"double mins and txts 4 6months free bluetooth on orange. available on sony', '4mths half price orange line rental & latest camera phones 4 free. had your phone 11mths ? call mobilesdirect free on 08000938767 to update now! or2stoptxt', '\"free ringtone text first to 87131 for a poly or text get to 87131 for a true tone! help? 0845 2814032 16 after 1st free', '100 dating service cal;l 09064012103 box334sk38ch', 'free entry into our å£250 weekly competition just text the word win to 80086 now. 18 t&c www.txttowin.co.uk', 'send a logo 2 ur lover - 2 names joined by a heart. txt love name1 name2 mobno eg love adam eve 07123456789 to 87077 yahoo! pobox36504w45wq txtno 4 no ads 150p', 'someone has contacted our dating service and entered your phone because they fancy you! to find out who it is call from a landline 09111032124 . pobox12n146tf150p', 'urgent! your mobile number has been awarded with a å£2000 prize guaranteed. call 09058094455 from land line. claim 3030. valid 12hrs only', 'congrats! nokia 3650 video camera phone is your call 09066382422 calls cost 150ppm ave call 3mins vary from mobiles 16+ close 300603 post bcm4284 ldn wc1n3xx', '\"loan for any purpose å£500 - å£75', '\"upgrdcentre orange customer', 'okmail: dear dave this is your final notice to collect your 4* tenerife holiday or #5000 cash award! call 09061743806 from landline. tcs sae box326 cw25wx 150ppm', \"want 2 get laid tonight? want real dogging locations sent direct 2 ur mob? join the uk's largest dogging network by txting moan to 69888nyt. ec2a. 31p.msg@150p\", '\"free message activate your 500 free text messages by replying to this message with the word free for terms & conditions', '\"congrats! 1 year special cinema pass for 2 is yours. call 09061209465 now! c suprman v', \"+123 congratulations - in this week's competition draw u have won the å£1450 prize to claim just call 09050002311 b4280703. t&cs/stop sms 08718727868. over 18 only 150ppm\", '\"you are guaranteed the latest nokia phone', 'boltblue tones for 150p reply poly# or mono# eg poly3 1. cha cha slide 2. yeah 3. slow jamz 6. toxic 8. come with me or stop 4 more tones txt more', 'your credits have been topped up for http://www.bubbletext.com your renewal pin is tgxxrz', '\"urgent!: your mobile no. was awarded a å£2', '\"today\\'s offer! claim ur å£150 worth of discount vouchers! text yes to 85023 now! savamob', 'you will recieve your tone within the next 24hrs. for terms and conditions please see channel u teletext pg 750', 'private! your 2003 account statement for 07815296484 shows 800 un-redeemed s.i.m. points. call 08718738001 identifier code 41782 expires 18/11/04 ', 'from www.applausestore.com monthlysubscription@50p/msg max6/month t&csc web age16 2stop txt stop', 'gent! we are trying to contact you. last weekends draw shows that you won a å£1000 prize guaranteed. call 09064012160. claim code k52. valid 12hrs only. 150ppm ', '\"you have won ?1', '\"our mobile number has won å£5000', 'we tried to contact you re your reply to our offer of 750 mins 150 textand a new video phone call 08002988890 now or reply for free delivery tomorrow', '\"for ur chance to win a å£250 wkly shopping spree txt: shop to 80878. t\\'s&c\\'s www.txt-2-shop.com custcare 08715705022', 'you have been specially selected to receive a 2000 pound award! call 08712402050 before the lines close. cost 10ppm. 16+. t&cs apply. ag promo', 'private! your 2003 account statement for 07753741225 shows 800 un-redeemed s. i. m. points. call 08715203677 identifier code: 42478 expires 24/10/04', 'you have an important customer service announcement. call freephone 0800 542 0825 now!', 'xclusive@clubsaisai 2morow 28/5 soiree speciale zouk with nichols from paris.free roses 2 all ladies !!! info: 07946746291/07880867867 ', '22 days to kick off! for euro2004 u will be kept up to date with the latest news and results daily. to be removed send get txt stop to 83222', 'new textbuddy chat 2 horny guys in ur area 4 just 25p free 2 receive search postcode or at gaytextbuddy.com. txt one name to 89693', 'todays vodafone numbers ending with 4882 are selected to a receive a å£350 award. if your number matches call 09064019014 to receive your å£350 award.', '\"dear voucher holder', 'private! your 2003 account statement for shows 800 un-redeemed s. i. m. points. call 08715203694 identifier code: 40533 expires 31/10/04', '\"you have won ?1', '88800 and 89034 are premium phone services call 08718711108', 'sms. ac sun0819 posts hello:\\\\you seem cool', 'get ur 1st ringtone free now! reply to this msg with tone. gr8 top 20 tones to your phone every week just å£1.50 per wk 2 opt out send stop 08452810071 16', \"hi i'm sue. i am 20 years old and work as a lapdancer. i love sex. text me live - i'm i my bedroom now. text sue to 89555. by textoperator g2 1da 150ppmsg 18+\", '<forwarded from 448712404000>please call 08712404000 immediately as there is an urgent message waiting for you.']\n"
          ]
        }
      ]
    },
    {
      "cell_type": "code",
      "source": [
        "tf_vectorizer = CountVectorizer()\n",
        "\n",
        "X_train_tf = tf_vectorizer.fit_transform(train_X)"
      ],
      "metadata": {
        "id": "yued_LrpyuWP"
      },
      "execution_count": null,
      "outputs": []
    },
    {
      "cell_type": "code",
      "source": [
        "X_test_tf = tf_vectorizer.transform(test_X)"
      ],
      "metadata": {
        "id": "4bFnaxY8yuYx"
      },
      "execution_count": null,
      "outputs": []
    },
    {
      "cell_type": "code",
      "source": [
        "naive_bayes_classifier = MultinomialNB()\n",
        "naive_bayes_classifier.fit(X_train_tf, train_y)"
      ],
      "metadata": {
        "colab": {
          "base_uri": "https://localhost:8080/"
        },
        "id": "w_xQE3HYyubi",
        "outputId": "370b7d17-bd70-48d8-8f88-f57a87b14f5f"
      },
      "execution_count": null,
      "outputs": [
        {
          "output_type": "execute_result",
          "data": {
            "text/plain": [
              "MultinomialNB()"
            ]
          },
          "metadata": {},
          "execution_count": 11
        }
      ]
    },
    {
      "cell_type": "code",
      "source": [
        "y_pred = naive_bayes_classifier.predict(X_test_tf)"
      ],
      "metadata": {
        "id": "RKvgVMOxyuea"
      },
      "execution_count": null,
      "outputs": []
    },
    {
      "cell_type": "code",
      "source": [
        "print(y_pred)\n",
        "print(test_y)"
      ],
      "metadata": {
        "colab": {
          "base_uri": "https://localhost:8080/"
        },
        "id": "LcjLAM4LyugZ",
        "outputId": "32286b93-549f-4509-c8fd-148b5f1919fe"
      },
      "execution_count": null,
      "outputs": [
        {
          "output_type": "stream",
          "name": "stdout",
          "text": [
            "['ham' 'ham' 'spam' 'ham' 'ham' 'ham' 'ham' 'ham' 'spam']\n",
            "['ham', 'ham', 'spam', 'ham', 'ham', 'spam', 'ham', 'ham', 'spam']\n"
          ]
        }
      ]
    },
    {
      "cell_type": "code",
      "source": [
        "score1 = metrics.accuracy_score(test_y, y_pred)\n",
        "print(\"accuracy = \" + str(score1))"
      ],
      "metadata": {
        "colab": {
          "base_uri": "https://localhost:8080/"
        },
        "id": "EQMXB7jUy2UG",
        "outputId": "65dcac93-ccf9-4e95-ee80-c327e3c50877"
      },
      "execution_count": null,
      "outputs": [
        {
          "output_type": "stream",
          "name": "stdout",
          "text": [
            "accuracy = 0.8888888888888888\n"
          ]
        }
      ]
    },
    {
      "cell_type": "code",
      "source": [
        "print(metrics.classification_report(test_y, y_pred,target_names=['Ham', 'Spam']))"
      ],
      "metadata": {
        "colab": {
          "base_uri": "https://localhost:8080/"
        },
        "id": "NyZVrUaYy2XQ",
        "outputId": "93f859d2-087d-4fc3-def8-3a77caeee778"
      },
      "execution_count": null,
      "outputs": [
        {
          "output_type": "stream",
          "name": "stdout",
          "text": [
            "              precision    recall  f1-score   support\n",
            "\n",
            "         Ham       0.86      1.00      0.92         6\n",
            "        Spam       1.00      0.67      0.80         3\n",
            "\n",
            "    accuracy                           0.89         9\n",
            "   macro avg       0.93      0.83      0.86         9\n",
            "weighted avg       0.90      0.89      0.88         9\n",
            "\n"
          ]
        }
      ]
    },
    {
      "cell_type": "code",
      "source": [
        "confusion =  metrics.confusion_matrix(test_y, y_pred)\n",
        "\n",
        "for item in confusion:\n",
        "  for el in item:\n",
        "    print(el,end ='  ')\n",
        "  print()\n"
      ],
      "metadata": {
        "colab": {
          "base_uri": "https://localhost:8080/"
        },
        "id": "sRxBePmoy6ub",
        "outputId": "ee45811c-f2b3-42bb-c7e2-5d4ef0160379"
      },
      "execution_count": null,
      "outputs": [
        {
          "output_type": "stream",
          "name": "stdout",
          "text": [
            "6  0  \n",
            "1  2  \n"
          ]
        }
      ]
    },
    {
      "cell_type": "code",
      "source": [
        ""
      ],
      "metadata": {
        "id": "V5smVNRCAk_i"
      },
      "execution_count": null,
      "outputs": []
    }
  ]
}