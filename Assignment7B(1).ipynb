{
  "nbformat": 4,
  "nbformat_minor": 0,
  "metadata": {
    "colab": {
      "name": "Assignment7B.ipynb",
      "provenance": [],
      "collapsed_sections": []
    },
    "kernelspec": {
      "name": "python3",
      "display_name": "Python 3"
    },
    "language_info": {
      "name": "python"
    }
  },
  "cells": [
    {
      "cell_type": "code",
      "source": [
        "from gensim.models import Word2Vec\n",
        "\n",
        "ds = \"\"\"Shanghai Centre is located on West Nanjing Road, Jing'an District, Shanghai. It is a comprehensive building complex consisting of three towers rising from an eight-storey base.\n",
        "Designed by John C. Portman, Jr., the Shanghai Centre was one of the first contemporary skyscrapers to be built in Shanghai.\n",
        "It occupies a prestige location, across West Nanjing Road from the Russian neo-classical style Shanghai Exhibition Centre complex, with whose central axis the Shanghai Centre's central axis is aligned.\n",
        "The whole complex hosts 472 apartment units, 30,000 sq. meters of high-end office area, a supermarket, three stories of luxury department stores, the Shanghai Centre Theatre, a Trading Exhibition Centre, and a 5-star hotel (The Portman Ritz Carlton Shanghai, named after the architect).\n",
        "The complex opened in April, 1990, and it consists of three towers and several accessory buildings.\n",
        "The eight-storey pedestal building fronts onto West Nanjing Road.\n",
        "The building's frontage is not aligned with the street: in order to align the central axis with that of the Shanghai Exhibition Centre on the other side of West Nanjing Road (the main frontage of which in turn faces, and therefore is aligned with, Yan'an Road), the Shanghai Centre was built at an angle to West Nanjing Road.\n",
        "The three towers are arranged symmetrically \"rising\" out of the pedestal: one at the centre and towards the back, and two symmetrically to the left and right, further to the front. The three towers have similar profiles, with a memorable feature being a slight widening of the long side of each tower towards the top, giving each tower a profile reminiscent of traditional Chinese monumental stelae or towers. \n",
        "The building also hosts a number of foreign consulates or their delegate offices, including Australia, Brazil, Canada, Costa Rica, Ireland, the Philippines and the United States. The Consulate-General of the United States in Shanghai has some satellite offices in the Shanghai Centre.[1]\n",
        "At one point Northwest Airlines operated a ticket office in Suite 207.[2] Delta Air Lines, which merged with Northwest, moved the ticket office to the Kerry Centre.[3] At one time All Nippon Airways set its Shanghai sales office in Suite 808 of Shanghai Centre.[4] \"\"\"\n",
        "\n",
        "\n",
        "corpus = ds.split(\" \")\n",
        "\n",
        "converted_corpus = list()\n",
        "\n",
        "itr = 0 \n",
        "\n",
        "gap = 8\n",
        "\n",
        "while(itr<len(ds)):\n",
        "  converted_corpus.append(corpus[itr:itr+gap])\n",
        "  itr+=gap\n",
        "\n",
        "print(converted_corpus)\n",
        "\n"
      ],
      "metadata": {
        "colab": {
          "base_uri": "https://localhost:8080/"
        },
        "id": "TYWiP0NI2_12",
        "outputId": "2d0f6317-7f70-44a4-bbd0-76d6d3ea3d38"
      },
      "execution_count": 1,
      "outputs": [
        {
          "output_type": "stream",
          "name": "stdout",
          "text": [
            "[['Shanghai', 'Centre', 'is', 'located', 'on', 'West', 'Nanjing', 'Road,'], [\"Jing'an\", 'District,', 'Shanghai.', 'It', 'is', 'a', 'comprehensive', 'building'], ['complex', 'consisting', 'of', 'three', 'towers', 'rising', 'from', 'an'], ['eight-storey', 'base.\\nDesigned', 'by', 'John', 'C.', 'Portman,', 'Jr.,', 'the'], ['Shanghai', 'Centre', 'was', 'one', 'of', 'the', 'first', 'contemporary'], ['skyscrapers', 'to', 'be', 'built', 'in', 'Shanghai.\\nIt', 'occupies', 'a'], ['prestige', 'location,', 'across', 'West', 'Nanjing', 'Road', 'from', 'the'], ['Russian', 'neo-classical', 'style', 'Shanghai', 'Exhibition', 'Centre', 'complex,', 'with'], ['whose', 'central', 'axis', 'the', 'Shanghai', \"Centre's\", 'central', 'axis'], ['is', 'aligned.\\nThe', 'whole', 'complex', 'hosts', '472', 'apartment', 'units,'], ['30,000', 'sq.', 'meters', 'of', 'high-end', 'office', 'area,', 'a'], ['supermarket,', 'three', 'stories', 'of', 'luxury', 'department', 'stores,', 'the'], ['Shanghai', 'Centre', 'Theatre,', 'a', 'Trading', 'Exhibition', 'Centre,', 'and'], ['a', '5-star', 'hotel', '(The', 'Portman', 'Ritz', 'Carlton', 'Shanghai,'], ['named', 'after', 'the', 'architect).\\nThe', 'complex', 'opened', 'in', 'April,'], ['1990,', 'and', 'it', 'consists', 'of', 'three', 'towers', 'and'], ['several', 'accessory', 'buildings.\\nThe', 'eight-storey', 'pedestal', 'building', 'fronts', 'onto'], ['West', 'Nanjing', 'Road.\\nThe', \"building's\", 'frontage', 'is', 'not', 'aligned'], ['with', 'the', 'street:', 'in', 'order', 'to', 'align', 'the'], ['central', 'axis', 'with', 'that', 'of', 'the', 'Shanghai', 'Exhibition'], ['Centre', 'on', 'the', 'other', 'side', 'of', 'West', 'Nanjing'], ['Road', '(the', 'main', 'frontage', 'of', 'which', 'in', 'turn'], ['faces,', 'and', 'therefore', 'is', 'aligned', 'with,', \"Yan'an\", 'Road),'], ['the', 'Shanghai', 'Centre', 'was', 'built', 'at', 'an', 'angle'], ['to', 'West', 'Nanjing', 'Road.\\nThe', 'three', 'towers', 'are', 'arranged'], ['symmetrically', '\"rising\"', 'out', 'of', 'the', 'pedestal:', 'one', 'at'], ['the', 'centre', 'and', 'towards', 'the', 'back,', 'and', 'two'], ['symmetrically', 'to', 'the', 'left', 'and', 'right,', 'further', 'to'], ['the', 'front.', 'The', 'three', 'towers', 'have', 'similar', 'profiles,'], ['with', 'a', 'memorable', 'feature', 'being', 'a', 'slight', 'widening'], ['of', 'the', 'long', 'side', 'of', 'each', 'tower', 'towards'], ['the', 'top,', 'giving', 'each', 'tower', 'a', 'profile', 'reminiscent'], ['of', 'traditional', 'Chinese', 'monumental', 'stelae', 'or', 'towers.', '\\nThe'], ['building', 'also', 'hosts', 'a', 'number', 'of', 'foreign', 'consulates'], ['or', 'their', 'delegate', 'offices,', 'including', 'Australia,', 'Brazil,', 'Canada,'], ['Costa', 'Rica,', 'Ireland,', 'the', 'Philippines', 'and', 'the', 'United'], ['States.', 'The', 'Consulate-General', 'of', 'the', 'United', 'States', 'in'], ['Shanghai', 'has', 'some', 'satellite', 'offices', 'in', 'the', 'Shanghai'], ['Centre.[1]\\nAt', 'one', 'point', 'Northwest', 'Airlines', 'operated', 'a', 'ticket'], ['office', 'in', 'Suite', '207.[2]', 'Delta', 'Air', 'Lines,', 'which'], ['merged', 'with', 'Northwest,', 'moved', 'the', 'ticket', 'office', 'to'], ['the', 'Kerry', 'Centre.[3]', 'At', 'one', 'time', 'All', 'Nippon'], ['Airways', 'set', 'its', 'Shanghai', 'sales', 'office', 'in', 'Suite'], ['808', 'of', 'Shanghai', 'Centre.[4]', ''], [], [], [], [], [], [], [], [], [], [], [], [], [], [], [], [], [], [], [], [], [], [], [], [], [], [], [], [], [], [], [], [], [], [], [], [], [], [], [], [], [], [], [], [], [], [], [], [], [], [], [], [], [], [], [], [], [], [], [], [], [], [], [], [], [], [], [], [], [], [], [], [], [], [], [], [], [], [], [], [], [], [], [], [], [], [], [], [], [], [], [], [], [], [], [], [], [], [], [], [], [], [], [], [], [], [], [], [], [], [], [], [], [], [], [], [], [], [], [], [], [], [], [], [], [], [], [], [], [], [], [], [], [], [], [], [], [], [], [], [], [], [], [], [], [], [], [], [], [], [], [], [], [], [], [], [], [], [], [], [], [], [], [], [], [], [], [], [], [], [], [], [], [], [], [], [], [], [], [], [], [], [], [], [], [], [], [], [], [], [], [], [], [], [], [], [], [], [], [], [], [], [], [], [], [], [], [], [], [], [], [], [], [], [], [], [], [], [], [], [], [], [], [], [], [], [], [], [], [], [], [], [], [], [], [], [], []]\n"
          ]
        }
      ]
    },
    {
      "cell_type": "code",
      "source": [
        "model = Word2Vec(converted_corpus, min_count=1,size= 50,workers=3, window =3, sg = 1)"
      ],
      "metadata": {
        "id": "kwAUXcU5-oay"
      },
      "execution_count": 3,
      "outputs": []
    },
    {
      "cell_type": "code",
      "source": [
        "model['foreign']"
      ],
      "metadata": {
        "colab": {
          "base_uri": "https://localhost:8080/"
        },
        "id": "kra0ZhJ-4YYm",
        "outputId": "39acdddc-31a3-4fab-88e3-4ea35f4cd805"
      },
      "execution_count": 4,
      "outputs": [
        {
          "output_type": "stream",
          "name": "stderr",
          "text": [
            "/usr/local/lib/python3.7/dist-packages/ipykernel_launcher.py:1: DeprecationWarning: Call to deprecated `__getitem__` (Method will be removed in 4.0.0, use self.wv.__getitem__() instead).\n",
            "  \"\"\"Entry point for launching an IPython kernel.\n"
          ]
        },
        {
          "output_type": "execute_result",
          "data": {
            "text/plain": [
              "array([-5.2879233e-04,  5.4134289e-03,  1.3557118e-03, -2.7327384e-03,\n",
              "       -7.3412834e-03, -1.7379016e-03, -7.8058580e-04, -1.5073454e-03,\n",
              "       -3.7725652e-03, -1.7991884e-03, -7.4562118e-03,  1.6736435e-03,\n",
              "       -7.0615998e-03, -4.8333760e-03, -3.7828370e-03, -4.1479622e-03,\n",
              "        3.6547864e-03, -6.6438373e-03,  3.1615146e-03, -2.6103989e-03,\n",
              "        4.2373030e-03,  7.5249476e-03, -8.4468676e-03, -7.9327552e-03,\n",
              "        3.6809051e-03,  2.8998710e-03, -8.4013529e-03,  6.2272595e-03,\n",
              "       -3.8682695e-03, -3.9311653e-04,  6.3250014e-03, -8.2919821e-03,\n",
              "        8.6139310e-03,  9.4413767e-03,  9.8073417e-03, -8.9279320e-03,\n",
              "        1.9106299e-03, -8.0036037e-03,  2.9365940e-03, -8.9539234e-03,\n",
              "       -2.0362791e-03,  1.3072942e-03,  2.8073401e-03,  1.2415719e-05,\n",
              "       -9.8402414e-04, -8.9973658e-03, -2.7531504e-03, -4.2472449e-03,\n",
              "       -2.2593355e-03,  2.0970926e-03], dtype=float32)"
            ]
          },
          "metadata": {},
          "execution_count": 4
        }
      ]
    },
    {
      "cell_type": "code",
      "source": [
        "model.similarity('foreign','three')"
      ],
      "metadata": {
        "colab": {
          "base_uri": "https://localhost:8080/"
        },
        "id": "er3NS5zY4qh0",
        "outputId": "af7a9cf0-aa21-46a1-cb3f-14b5309536eb"
      },
      "execution_count": 9,
      "outputs": [
        {
          "output_type": "stream",
          "name": "stderr",
          "text": [
            "/usr/local/lib/python3.7/dist-packages/ipykernel_launcher.py:1: DeprecationWarning: Call to deprecated `similarity` (Method will be removed in 4.0.0, use self.wv.similarity() instead).\n",
            "  \"\"\"Entry point for launching an IPython kernel.\n"
          ]
        },
        {
          "output_type": "execute_result",
          "data": {
            "text/plain": [
              "-0.14824727"
            ]
          },
          "metadata": {},
          "execution_count": 9
        }
      ]
    },
    {
      "cell_type": "code",
      "source": [
        "model.most_similar('foreign')[:5]"
      ],
      "metadata": {
        "colab": {
          "base_uri": "https://localhost:8080/"
        },
        "id": "O-AXWLP156dU",
        "outputId": "dadce324-8aed-451c-fbc3-408f400d2947"
      },
      "execution_count": 10,
      "outputs": [
        {
          "output_type": "stream",
          "name": "stderr",
          "text": [
            "/usr/local/lib/python3.7/dist-packages/ipykernel_launcher.py:1: DeprecationWarning: Call to deprecated `most_similar` (Method will be removed in 4.0.0, use self.wv.most_similar() instead).\n",
            "  \"\"\"Entry point for launching an IPython kernel.\n"
          ]
        },
        {
          "output_type": "execute_result",
          "data": {
            "text/plain": [
              "[('tower', 0.40707260370254517),\n",
              " ('building', 0.39384081959724426),\n",
              " ('whole', 0.360704243183136),\n",
              " ('District,', 0.3211895525455475),\n",
              " ('offices', 0.31447115540504456)]"
            ]
          },
          "metadata": {},
          "execution_count": 10
        }
      ]
    },
    {
      "cell_type": "code",
      "source": [
        "import numpy as np\n",
        "from yellowbrick.text import TSNEVisualizer\n",
        "import matplotlib.pyplot as plt\n",
        "def display(model, word, size):\n",
        "    arr = np.empty((0,size), dtype='f')\n",
        "    word_labels = [word]\n",
        "    close_words = model.similar_by_word(word)\n",
        "    arr = np.append(arr, np.array([np.append(np.zeros(1),model[word])]), axis=0)\n",
        "    for wrd_score in close_words:\n",
        "        wrd_vector = model[wrd_score[0]]\n",
        "        word_labels.append(wrd_score[0])\n",
        "        arr = np.append(arr, np.array([np.append(np.zeros(1),wrd_vector)]), axis=0)\n",
        "        \n",
        "    tsne = TSNEVisualizer()\n",
        "    np.set_printoptions(suppress=True)\n",
        "    Y = tsne.fit_transform(arr)\n",
        "    x_coords = Y[:, 1]\n",
        "    y_coords = Y[:, 2]\n",
        "    plt.scatter(x_coords, y_coords)\n",
        "    for label, x, y in zip(word_labels, x_coords, y_coords):\n",
        "      plt.annotate(label, xy=(x, y), xytext=(0, 0), textcoords='offset points')\n",
        "    plt.xlim(x_coords.min()-0.00005, x_coords.max()+0.00005)\n",
        "    plt.ylim(y_coords.min()-0.00005, y_coords.max()+0.00005)\n",
        "    plt.show()\n",
        "display(model, 'foreign', 51)"
      ],
      "metadata": {
        "colab": {
          "base_uri": "https://localhost:8080/",
          "height": 566
        },
        "id": "IXIJiV6aBgGC",
        "outputId": "fe639991-43b4-4ebc-894c-2310f9fe407d"
      },
      "execution_count": 64,
      "outputs": [
        {
          "output_type": "stream",
          "name": "stderr",
          "text": [
            "/usr/local/lib/python3.7/dist-packages/ipykernel_launcher.py:7: DeprecationWarning: Call to deprecated `similar_by_word` (Method will be removed in 4.0.0, use self.wv.similar_by_word() instead).\n",
            "  import sys\n",
            "/usr/local/lib/python3.7/dist-packages/ipykernel_launcher.py:8: DeprecationWarning: Call to deprecated `__getitem__` (Method will be removed in 4.0.0, use self.wv.__getitem__() instead).\n",
            "  \n",
            "/usr/local/lib/python3.7/dist-packages/ipykernel_launcher.py:10: DeprecationWarning: Call to deprecated `__getitem__` (Method will be removed in 4.0.0, use self.wv.__getitem__() instead).\n",
            "  # Remove the CWD from sys.path while we load stuff.\n",
            "/usr/local/lib/python3.7/dist-packages/sklearn/manifold/_t_sne.py:783: FutureWarning: The default initialization in TSNE will change from 'random' to 'pca' in 1.2.\n",
            "  FutureWarning,\n",
            "/usr/local/lib/python3.7/dist-packages/sklearn/manifold/_t_sne.py:793: FutureWarning: The default learning rate in TSNE will change from 200.0 to 'auto' in 1.2.\n",
            "  FutureWarning,\n",
            "*c* argument looks like a single numeric RGB or RGBA sequence, which should be avoided as value-mapping will have precedence in case its length matches with *x* & *y*.  Please use the *color* keyword-argument or provide a 2-D array with a single row if you intend to specify the same RGB or RGBA value for all points.\n"
          ]
        },
        {
          "output_type": "display_data",
          "data": {
            "text/plain": [
              "<Figure size 576x396 with 1 Axes>"
            ],
            "image/png": "[encoded data removed]"
          },
          "metadata": {}
        }
      ]
    },
    {
      "cell_type": "code",
      "source": [
        ""
      ],
      "metadata": {
        "id": "oZSNLMg1CXaa"
      },
      "execution_count": null,
      "outputs": []
    }
  ]
}