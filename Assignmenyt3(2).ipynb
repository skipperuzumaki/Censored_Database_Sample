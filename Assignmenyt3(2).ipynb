{
  "nbformat": 4,
  "nbformat_minor": 0,
  "metadata": {
    "colab": {
      "name": "Assignmenyt3.ipynb",
      "provenance": [],
      "collapsed_sections": []
    },
    "kernelspec": {
      "name": "python3",
      "display_name": "Python 3"
    },
    "language_info": {
      "name": "python"
    }
  },
  "cells": [
    {
      "cell_type": "code",
      "execution_count": 1,
      "metadata": {
        "colab": {
          "base_uri": "https://localhost:8080/"
        },
        "id": "mRcyQGgeELb9",
        "outputId": "fced9730-0d22-46b3-c535-112997e9c17f"
      },
      "outputs": [
        {
          "output_type": "stream",
          "name": "stdout",
          "text": [
            "[nltk_data] Downloading package punkt to /root/nltk_data...\n",
            "[nltk_data]   Package punkt is already up-to-date!\n",
            "[nltk_data] Downloading package stopwords to /root/nltk_data...\n",
            "[nltk_data]   Package stopwords is already up-to-date!\n"
          ]
        }
      ],
      "source": [
        "import string\n",
        "import random\n",
        "import nltk\n",
        "nltk.download('punkt')\n",
        "nltk.download('stopwords')\n",
        "from nltk import FreqDist\n",
        "from nltk.corpus import stopwords\n",
        "from nltk.util import ngrams\n",
        "from collections import *"
      ]
    },
    {
      "cell_type": "code",
      "source": [
        "corpus = '''### abstract ###\n",
        "This paper addresses the problem of distributed learning under communication constraints, motivated by distributed signal processing in wireless sensor networks and data mining with distributed databases\n",
        "After formalizing a general model for distributed learning, an algorithm for collaboratively training regularized kernel least-squares regression estimators is derived\n",
        "Noting that the algorithm can be viewed as an application of successive orthogonal projection algorithms, its convergence properties are investigated and the statistical behavior of the estimator is discussed in a simplified theoretical setting\n",
        "### introduction ###\n",
        "In this paper, we address the problem of  distributed learning under communication constraints , motivated primarily by distributed signal processing in wireless sensor networks (WSNs) and data mining with distributed databases\n",
        "WSNs  are  a fortiori  designed to make inferences from the environments they are sensing; however they are typically characterized by constraints on energy and bandwidth, which limit the sensors' ability to share data with each other or with a centralized fusion center\n",
        "In data mining with distributed databases, multiple agents (e g , corporations) have access to possibly overlapping databases, and wish to collaborate to make optimal inferences; privacy or security concerns, however, may preclude them from fully sharing information\n",
        "Nonparametric methods studied within machine learning have demonstrated widespread empirical success in many centralized (i e , communication  unconstrained ) signal processing applications\n",
        "Thus, in both the aforementioned applications, a natural question arises: can the power of machine learning methods be tapped for nonparametric inference in distributed learning under communication constraints\n",
        "In this paper, we address this question by formalizing a general model for distributed learning, and then deriving a distributed algorithm for collaborative training in regularized kernel least-squares regression\n",
        "The algorithm can be viewed as an instantiation of successive orthogonal projection algorithms, and thus, insight into the statistical behavior of these algorithms can be gleaned from standard analyses in mathematical programming\n",
        "'''"
      ],
      "metadata": {
        "id": "5Tf7aeD-ERsU"
      },
      "execution_count": 2,
      "outputs": []
    },
    {
      "cell_type": "code",
      "source": [
        "sents = corpus.split('\\n')\n",
        "\n",
        "# write the removal characters such as : Stopwords and panctuation\n",
        "stop_words = set(stopwords.words('english'))\n",
        "string.punctuation = string.punctuation +'\"'+'\"'+'-'+'''+'''+'—'\n",
        "print(string.punctuation)\n",
        "removal_list = list(stop_words) + list(string.punctuation)+ ['lt','rt']\n",
        "print(removal_list)"
      ],
      "metadata": {
        "colab": {
          "base_uri": "https://localhost:8080/"
        },
        "id": "MSM7Ql_lETO3",
        "outputId": "9f1cf131-9778-4e96-822c-3c2d3d0496d8"
      },
      "execution_count": 3,
      "outputs": [
        {
          "output_type": "stream",
          "name": "stdout",
          "text": [
            "!\"#$%&'()*+,-./:;<=>?@[\\]^_`{|}~\"\"-+—\n",
            "['d', 'ours', 'after', 'which', 'a', \"mightn't\", 'once', 'for', 'some', 'not', 'until', 'during', 'to', \"don't\", 'me', 'having', 'off', 'more', 'these', \"hadn't\", 'shouldn', 'up', 'is', 'shan', 'he', 'while', \"haven't\", 'through', 'why', 'yourselves', 'all', 'ain', 'had', 'you', 'in', 'only', 'who', \"weren't\", 'over', 'were', \"you'd\", \"hasn't\", 'of', 'they', 'by', 'about', 'have', 'weren', 'now', 'his', 'himself', 'below', 'then', 'its', 'do', 'can', 's', 'been', 'how', 'didn', 'ma', 'both', 'that', \"mustn't\", \"doesn't\", 'does', 'same', 'couldn', 'if', 'what', 'before', 'against', 'we', \"she's\", 'own', 'are', \"wouldn't\", 'll', 'herself', 'those', 'so', \"you're\", 'mustn', 'out', 'above', 'myself', 'i', 'whom', 'other', 'our', 'should', 'from', 'wouldn', 'ourselves', 'any', 've', 'my', \"wasn't\", 'between', \"it's\", 'an', 'mightn', 'o', 'very', 'she', 'her', 'where', 'hadn', \"isn't\", 're', 'theirs', 'and', 'm', 'will', \"aren't\", 'them', 'on', 'most', 'the', 'needn', 'isn', 'further', 'doesn', 'into', 'am', 'hasn', 'was', 'him', 'itself', 'down', 'doing', 'under', \"didn't\", 'won', \"you'll\", \"should've\", 'haven', 'but', 'or', 'nor', 'hers', 'y', 'yours', 'wasn', \"couldn't\", \"shan't\", \"you've\", 'as', 'again', 'yourself', 'when', 'few', \"needn't\", 'has', 'with', 'at', 'being', 'there', \"that'll\", 't', 'don', 'here', \"shouldn't\", 'just', 'this', 'did', 'such', 'than', 'be', 'themselves', 'their', 'too', 'each', \"won't\", 'aren', 'no', 'because', 'your', 'it', '!', '\"', '#', '$', '%', '&', \"'\", '(', ')', '*', '+', ',', '-', '.', '/', ':', ';', '<', '=', '>', '?', '@', '[', '\\\\', ']', '^', '_', '`', '{', '|', '}', '~', '\"', '\"', '-', '+', '—', 'lt', 'rt']\n"
          ]
        }
      ]
    },
    {
      "cell_type": "code",
      "source": [
        "# generate unigrams bigrams trigrams\n",
        "unigram = []\n",
        "bigram=[]\n",
        "trigram=[]\n",
        "quadrigram=[]\n",
        "tokenized_text=[]\n",
        "for sentence in sents:\n",
        "    sentence = list(map(lambda x:x.lower(),sentence.split()))\n",
        "    for word in sentence:\n",
        "        if word == '.':\n",
        "            sentence.remove(word)\n",
        "        else:\n",
        "            unigram.append(word)\n",
        "    \n",
        "    tokenized_text.append(sentence)\n",
        "    bigram.extend(list(ngrams(sentence, 2,pad_left=True, pad_right=True)))\n",
        "    quadrigram.extend(list(ngrams(sentence, 4, pad_left=True, pad_right=True)))\n"
      ],
      "metadata": {
        "id": "NgucGJUOEZwb"
      },
      "execution_count": 4,
      "outputs": []
    },
    {
      "cell_type": "code",
      "source": [
        "# remove the n-grams with removable words\n",
        "def remove_stopwords(x):    \n",
        "    y = []\n",
        "    for pair in x:\n",
        "        count = 0\n",
        "        for word in pair:\n",
        "            if word in removal_list:\n",
        "                count = count or 0\n",
        "            else:\n",
        "                count = count or 1\n",
        "        if (count==1):\n",
        "            y.append(pair)\n",
        "    return (y)\n",
        "unigram = remove_stopwords(unigram)\n",
        "bigram = remove_stopwords(bigram)\n",
        "quadrigram = remove_stopwords(quadrigram)"
      ],
      "metadata": {
        "id": "TSu9rsdbEeYO"
      },
      "execution_count": 5,
      "outputs": []
    },
    {
      "cell_type": "code",
      "source": [
        "# Bigram Sentence Formation\n",
        "freq_bi = FreqDist(bigram)\n",
        "print(\"Birgam Text :\")\n",
        "d = {}\n",
        "for a, b in freq_bi:\n",
        "    if(a != None and b!= None):\n",
        "        try:\n",
        "            d[a].extend([b]*freq_bi[a,b])\n",
        "        except:\n",
        "            d[a] = [b]*freq_bi[a,b]\n",
        "\n",
        "s = ''\n",
        "def pick_word(d,counter):\n",
        "    \"Chooses a random element.\"\n",
        "    try:\n",
        "        return random.choice(d[counter])\n",
        "    except:\n",
        "        return \".\"\n",
        "prefix = \"distributed\"\n",
        "print(prefix)\n",
        "s = prefix\n",
        "for i in range(19):\n",
        "    if prefix == '.':\n",
        "        break\n",
        "    suffix = pick_word(d,prefix)\n",
        "    s=s+' '+suffix\n",
        "    print(s)\n",
        "    prefix = suffix"
      ],
      "metadata": {
        "colab": {
          "base_uri": "https://localhost:8080/"
        },
        "id": "Yw0k1JCPEg4-",
        "outputId": "092d078e-1eb3-403c-fe73-e8bf0a79762e"
      },
      "execution_count": 9,
      "outputs": [
        {
          "output_type": "stream",
          "name": "stdout",
          "text": [
            "Birgam Text :\n",
            "distributed\n",
            "distributed learning\n",
            "distributed learning under\n",
            "distributed learning under communication\n",
            "distributed learning under communication constraints\n",
            "distributed learning under communication constraints on\n",
            "distributed learning under communication constraints on energy\n",
            "distributed learning under communication constraints on energy and\n",
            "distributed learning under communication constraints on energy and data\n",
            "distributed learning under communication constraints on energy and data with\n",
            "distributed learning under communication constraints on energy and data with distributed\n",
            "distributed learning under communication constraints on energy and data with distributed learning\n",
            "distributed learning under communication constraints on energy and data with distributed learning under\n",
            "distributed learning under communication constraints on energy and data with distributed learning under communication\n",
            "distributed learning under communication constraints on energy and data with distributed learning under communication constraints,\n",
            "distributed learning under communication constraints on energy and data with distributed learning under communication constraints, motivated\n",
            "distributed learning under communication constraints on energy and data with distributed learning under communication constraints, motivated by\n",
            "distributed learning under communication constraints on energy and data with distributed learning under communication constraints, motivated by constraints\n",
            "distributed learning under communication constraints on energy and data with distributed learning under communication constraints, motivated by constraints ,\n",
            "distributed learning under communication constraints on energy and data with distributed learning under communication constraints, motivated by constraints , communication\n"
          ]
        }
      ]
    },
    {
      "cell_type": "code",
      "source": [
        "# Quadrigram Sentence Formation\n",
        "freq_quad = FreqDist(quadrigram)\n",
        "print(\"Quadrigram Text :\")\n",
        "d = {}\n",
        "for a, b, c, e in freq_quad:\n",
        "    if(a != None and b!= None and c!= None and e!= None):\n",
        "        #print(str(a) + '|' + str(b) + '|' + str(c) + \":\" + str(freq_tri[a, b, c]))\n",
        "        try:\n",
        "            d[a,b,c].extend([e]*freq_quad[a,b,c,e])\n",
        "        except:\n",
        "            d[a,b,c] = [e]*freq_quad[a,b,c,e]\n",
        " \n",
        "s=''\n",
        "prefix = \"distributed\", \"learning\", \"under\"\n",
        "print(\" \".join(prefix))\n",
        "s = \" \".join(prefix)\n",
        "for i in range(19):\n",
        "    if prefix[2] == '.':\n",
        "        break\n",
        "    suffix = pick_word(d,prefix)\n",
        "    s=s+' '+suffix\n",
        "    print(s)\n",
        "    prefix = prefix[1], prefix[2], suffix\n"
      ],
      "metadata": {
        "colab": {
          "base_uri": "https://localhost:8080/"
        },
        "id": "m1Y3N_qrEmqI",
        "outputId": "f94c7076-7058-49d2-f22a-d1b0a4882fb4"
      },
      "execution_count": 7,
      "outputs": [
        {
          "output_type": "stream",
          "name": "stdout",
          "text": [
            "Quadrigram Text :\n",
            "distributed learning under\n",
            "distributed learning under communication\n",
            "distributed learning under communication constraints,\n",
            "distributed learning under communication constraints, motivated\n",
            "distributed learning under communication constraints, motivated by\n",
            "distributed learning under communication constraints, motivated by distributed\n",
            "distributed learning under communication constraints, motivated by distributed signal\n",
            "distributed learning under communication constraints, motivated by distributed signal processing\n",
            "distributed learning under communication constraints, motivated by distributed signal processing in\n",
            "distributed learning under communication constraints, motivated by distributed signal processing in wireless\n",
            "distributed learning under communication constraints, motivated by distributed signal processing in wireless sensor\n",
            "distributed learning under communication constraints, motivated by distributed signal processing in wireless sensor networks\n",
            "distributed learning under communication constraints, motivated by distributed signal processing in wireless sensor networks (wsns)\n",
            "distributed learning under communication constraints, motivated by distributed signal processing in wireless sensor networks (wsns) and\n",
            "distributed learning under communication constraints, motivated by distributed signal processing in wireless sensor networks (wsns) and data\n",
            "distributed learning under communication constraints, motivated by distributed signal processing in wireless sensor networks (wsns) and data mining\n",
            "distributed learning under communication constraints, motivated by distributed signal processing in wireless sensor networks (wsns) and data mining with\n",
            "distributed learning under communication constraints, motivated by distributed signal processing in wireless sensor networks (wsns) and data mining with distributed\n",
            "distributed learning under communication constraints, motivated by distributed signal processing in wireless sensor networks (wsns) and data mining with distributed databases,\n",
            "distributed learning under communication constraints, motivated by distributed signal processing in wireless sensor networks (wsns) and data mining with distributed databases, multiple\n"
          ]
        }
      ]
    },
    {
      "cell_type": "code",
      "source": [
        ""
      ],
      "metadata": {
        "id": "fdUBN1EXE5Yx"
      },
      "execution_count": 7,
      "outputs": []
    }
  ]
}