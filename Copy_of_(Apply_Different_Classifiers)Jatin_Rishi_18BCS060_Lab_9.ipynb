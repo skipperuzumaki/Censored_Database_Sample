{
  "nbformat": 4,
  "nbformat_minor": 0,
  "metadata": {
    "colab": {
      "name": "Copy of (Apply Different Classifiers)Jatin_Rishi_18BCS060_Lab_9.ipynb",
      "provenance": [],
      "collapsed_sections": [],
      "include_colab_link": true
    },
    "kernelspec": {
      "name": "python3",
      "display_name": "Python 3"
    },
    "language_info": {
      "name": "python"
    }
  },
  "cells": [
    {
      "cell_type": "markdown",
      "metadata": {
        "id": "view-in-github",
        "colab_type": "text"
      },
      "source": [
        "<a href=\"https://colab.research.google.com/github/skipperuzumaki/Censored_Database_Sample/blob/main/Copy_of_(Apply_Different_Classifiers)Jatin_Rishi_18BCS060_Lab_9.ipynb\" target=\"_parent\"><img src=\"https://colab.research.google.com/assets/colab-badge.svg\" alt=\"Open In Colab\"/></a>"
      ]
    },
    {
      "cell_type": "code",
      "execution_count": null,
      "metadata": {
        "id": "0IzpMOTFf4-u"
      },
      "outputs": [],
      "source": [
        "import numpy as np\n",
        "import pandas as pd\n",
        "import matplotlib.pyplot as plt\n",
        "from sklearn.feature_extraction.text import CountVectorizer\n",
        "from sklearn.model_selection import GridSearchCV\n",
        "from sklearn import svm\n",
        "from sklearn import metrics\n",
        "from sklearn.metrics import precision_score, recall_score, make_scorer, f1_score\n",
        "from sklearn.model_selection import cross_val_score\n"
      ]
    },
    {
      "cell_type": "code",
      "source": [
        "data = pd.read_csv('Dataset.csv')"
      ],
      "metadata": {
        "id": "0QMKNNS5gOJK"
      },
      "execution_count": null,
      "outputs": []
    },
    {
      "cell_type": "code",
      "source": [
        "data.info()"
      ],
      "metadata": {
        "colab": {
          "base_uri": "https://localhost:8080/"
        },
        "id": "gCm7khhBgx2P",
        "outputId": "ef1a3d3e-a1d0-48a3-8ef7-f5257f95031e"
      },
      "execution_count": null,
      "outputs": [
        {
          "output_type": "stream",
          "name": "stdout",
          "text": [
            "<class 'pandas.core.frame.DataFrame'>\n",
            "RangeIndex: 200 entries, 0 to 199\n",
            "Data columns (total 4 columns):\n",
            " #   Column      Non-Null Count  Dtype \n",
            "---  ------      --------------  ----- \n",
            " 0   v1          200 non-null    object\n",
            " 1   v2          200 non-null    object\n",
            " 2   Unnamed: 2  2 non-null      object\n",
            " 3   Unnamed: 3  1 non-null      object\n",
            "dtypes: object(4)\n",
            "memory usage: 6.4+ KB\n"
          ]
        }
      ]
    },
    {
      "cell_type": "code",
      "source": [
        "\n",
        "X = data['v2'].values\n",
        "Y = data['v1'].values\n",
        "print(Y)\n",
        "\n",
        "from sklearn.model_selection import train_test_split\n",
        "X_train, X_test, y_train, y_test = train_test_split( X, Y, test_size=0.2, random_state=0)\n",
        "\n",
        "\n",
        "cv = CountVectorizer() \n",
        "X_train = cv.fit_transform(X_train)\n",
        "X_test = cv.transform(X_test)"
      ],
      "metadata": {
        "colab": {
          "base_uri": "https://localhost:8080/"
        },
        "id": "3gBAtxO7g6oe",
        "outputId": "fdd45427-06ce-456d-a02d-26bef4358ac5"
      },
      "execution_count": null,
      "outputs": [
        {
          "output_type": "stream",
          "name": "stdout",
          "text": [
            "['ham' 'ham' 'spam' 'ham' 'ham' 'spam' 'ham' 'ham' 'spam' 'spam' 'ham'\n",
            " 'spam' 'spam' 'ham' 'ham' 'spam' 'ham' 'ham' 'ham' 'spam' 'ham' 'ham'\n",
            " 'ham' 'ham' 'ham' 'ham' 'ham' 'ham' 'ham' 'ham' 'ham' 'ham' 'ham' 'ham'\n",
            " 'spam' 'ham' 'ham' 'ham' 'ham' 'ham' 'ham' 'ham' 'spam' 'ham' 'ham' 'ham'\n",
            " 'ham' 'ham' 'ham' 'ham' 'ham' 'ham' 'ham' 'ham' 'spam' 'ham' 'spam' 'ham'\n",
            " 'ham' 'ham' 'ham' 'ham' 'ham' 'ham' 'ham' 'spam' 'ham' 'spam' 'spam'\n",
            " 'ham' 'ham' 'ham' 'ham' 'ham' 'ham' 'ham' 'ham' 'ham' 'ham' 'ham' 'ham'\n",
            " 'ham' 'ham' 'ham' 'ham' 'ham' 'ham' 'ham' 'ham' 'ham' 'ham' 'ham' 'ham'\n",
            " 'spam' 'ham' 'spam' 'ham' 'ham' 'ham' 'ham' 'ham' 'ham' 'ham' 'ham' 'ham'\n",
            " 'ham' 'ham' 'ham' 'ham' 'ham' 'ham' 'ham' 'ham' 'spam' 'ham' 'ham' 'spam'\n",
            " 'ham' 'ham' 'spam' 'spam' 'spam' 'spam' 'spam' 'spam' 'spam' 'spam'\n",
            " 'spam' 'spam' 'spam' 'spam' 'spam' 'spam' 'spam' 'spam' 'spam' 'spam'\n",
            " 'spam' 'spam' 'spam' 'spam' 'spam' 'spam' 'spam' 'spam' 'spam' 'spam'\n",
            " 'spam' 'spam' 'spam' 'spam' 'spam' 'spam' 'spam' 'spam' 'spam' 'spam'\n",
            " 'spam' 'spam' 'spam' 'spam' 'spam' 'spam' 'spam' 'spam' 'spam' 'spam'\n",
            " 'spam' 'spam' 'spam' 'spam' 'spam' 'spam' 'spam' 'spam' 'spam' 'spam'\n",
            " 'spam' 'spam' 'spam' 'spam' 'spam' 'spam' 'spam' 'spam' 'spam' 'spam'\n",
            " 'spam' 'spam' 'spam' 'spam' 'spam' 'spam' 'spam' 'spam' 'spam' 'spam'\n",
            " 'spam' 'spam' 'spam']\n"
          ]
        }
      ]
    },
    {
      "cell_type": "code",
      "source": [
        "from sklearn.svm import SVC\n",
        "from sklearn.ensemble import RandomForestClassifier\n",
        "from sklearn.linear_model import LogisticRegression\n",
        "from sklearn.ensemble import AdaBoostClassifier\n",
        "import xgboost as xgb\n",
        "\n",
        "models = [SVC(kernel = 'rbf', random_state = 0),RandomForestClassifier(),LogisticRegression(random_state=0),AdaBoostClassifier(),xgb.XGBClassifier()]\n",
        "\n",
        "total_recall = []\n",
        "total_precision = []\n",
        "total_fScore = []\n",
        "\n",
        "for model in models:\n",
        "  classifier = model\n",
        "  classifier.fit(X_train, y_train)\n",
        "  print(classifier.score(X_test,y_test))\n",
        "  y_pred = classifier.predict(X_test)\n",
        "  print(metrics.confusion_matrix(y_test, y_pred))\n",
        "  report = metrics.classification_report(y_test, y_pred,target_names=['Ham', 'Spam'])\n",
        "  print(report)\n",
        "\n",
        "  print('Accuracy -> ',metrics.accuracy_score(y_test, y_pred))\n",
        "\n",
        "  precision_scorer = make_scorer(precision_score, pos_label='spam')\n",
        "  precisions = cross_val_score(classifier, X_train, y_train, cv=5, scoring=precision_scorer)\n",
        "  print('Precision -> ', np.mean(precisions))\n",
        "  total_precision.append(np.mean(precisions))\n",
        "  \n",
        "  recall_scorer = make_scorer(recall_score, pos_label='spam')\n",
        "  recalls = cross_val_score(classifier, X_train, y_train, cv=5, scoring=recall_scorer)\n",
        "  print('Recalls -> ', np.mean(recalls))\n",
        "  total_recall.append(np.mean(recalls))\n",
        "\n",
        "  f1_scorer = make_scorer(f1_score, pos_label='spam')\n",
        "  f1score = cross_val_score(classifier, X_train, y_train, cv=5, scoring=f1_scorer)\n",
        "  print('F1Score -> ', np.mean(f1score))\n",
        "  total_fScore.append(np.mean(f1score))\n"
      ],
      "metadata": {
        "colab": {
          "base_uri": "https://localhost:8080/"
        },
        "id": "JOP9-pTUhCZG",
        "outputId": "9eb25512-ae45-4a24-e47d-08f57a674e21"
      },
      "execution_count": null,
      "outputs": [
        {
          "output_type": "stream",
          "name": "stdout",
          "text": [
            "0.85\n",
            "[[19  0]\n",
            " [ 6 15]]\n",
            "              precision    recall  f1-score   support\n",
            "\n",
            "         Ham       0.76      1.00      0.86        19\n",
            "        Spam       1.00      0.71      0.83        21\n",
            "\n",
            "    accuracy                           0.85        40\n",
            "   macro avg       0.88      0.86      0.85        40\n",
            "weighted avg       0.89      0.85      0.85        40\n",
            "\n",
            "Accuracy ->  0.85\n",
            "Precision ->  0.8520369551329304\n",
            "Recalls ->  0.9116666666666667\n",
            "F1Score ->  0.8783868092691621\n",
            "0.875\n",
            "[[19  0]\n",
            " [ 5 16]]\n",
            "              precision    recall  f1-score   support\n",
            "\n",
            "         Ham       0.79      1.00      0.88        19\n",
            "        Spam       1.00      0.76      0.86        21\n",
            "\n",
            "    accuracy                           0.88        40\n",
            "   macro avg       0.90      0.88      0.87        40\n",
            "weighted avg       0.90      0.88      0.87        40\n",
            "\n",
            "Accuracy ->  0.875\n",
            "Precision ->  1.0\n",
            "Recalls ->  0.8108333333333334\n",
            "F1Score ->  0.8917295163123862\n",
            "0.875\n",
            "[[19  0]\n",
            " [ 5 16]]\n",
            "              precision    recall  f1-score   support\n",
            "\n",
            "         Ham       0.79      1.00      0.88        19\n",
            "        Spam       1.00      0.76      0.86        21\n",
            "\n",
            "    accuracy                           0.88        40\n",
            "   macro avg       0.90      0.88      0.87        40\n",
            "weighted avg       0.90      0.88      0.87        40\n",
            "\n",
            "Accuracy ->  0.875\n",
            "Precision ->  0.9732142857142858\n",
            "Recalls ->  0.8608333333333335\n",
            "F1Score ->  0.9125246305418718\n",
            "0.9\n",
            "[[19  0]\n",
            " [ 4 17]]\n",
            "              precision    recall  f1-score   support\n",
            "\n",
            "         Ham       0.83      1.00      0.90        19\n",
            "        Spam       1.00      0.81      0.89        21\n",
            "\n",
            "    accuracy                           0.90        40\n",
            "   macro avg       0.91      0.90      0.90        40\n",
            "weighted avg       0.92      0.90      0.90        40\n",
            "\n",
            "Accuracy ->  0.9\n",
            "Precision ->  0.8923809523809524\n",
            "Recalls ->  0.8858333333333335\n",
            "F1Score ->  0.8857347670250896\n",
            "0.825\n",
            "[[18  1]\n",
            " [ 6 15]]\n",
            "              precision    recall  f1-score   support\n",
            "\n",
            "         Ham       0.75      0.95      0.84        19\n",
            "        Spam       0.94      0.71      0.81        21\n",
            "\n",
            "    accuracy                           0.82        40\n",
            "   macro avg       0.84      0.83      0.82        40\n",
            "weighted avg       0.85      0.82      0.82        40\n",
            "\n",
            "Accuracy ->  0.825\n",
            "Precision ->  0.9329487179487179\n",
            "Recalls ->  0.7975\n",
            "F1Score ->  0.8564438147029915\n"
          ]
        }
      ]
    },
    {
      "cell_type": "code",
      "source": [
        "print(total_recall)\n",
        "print(total_precision)\n",
        "print(total_fScore)\n",
        "values = ['SVM','Random Forest','Logistic Regression','AdaBoost','XGBoost']"
      ],
      "metadata": {
        "colab": {
          "base_uri": "https://localhost:8080/"
        },
        "id": "JsAo36kihqN5",
        "outputId": "ae524f14-f0ab-4919-b8a8-76c8af97c27a"
      },
      "execution_count": null,
      "outputs": [
        {
          "output_type": "stream",
          "name": "stdout",
          "text": [
            "[0.9116666666666667, 0.8108333333333334, 0.8608333333333335, 0.8858333333333335, 0.7975]\n",
            "[0.8520369551329304, 1.0, 0.9732142857142858, 0.8923809523809524, 0.9329487179487179]\n",
            "[0.8783868092691621, 0.8917295163123862, 0.9125246305418718, 0.8857347670250896, 0.8564438147029915]\n"
          ]
        }
      ]
    },
    {
      "cell_type": "code",
      "source": [
        "import matplotlib.pyplot as plt\n",
        "\n",
        "barWidth = 0.2\n",
        "\n",
        "fig = plt.subplots(figsize =(12, 8))\n",
        "\n",
        "br1 = np.arange(5)\n",
        "br2 = [x + barWidth for x in br1]\n",
        "br3 = [x + barWidth for x in br2]\n",
        " \n",
        "plt.bar(br1, total_recall, color ='r', width = barWidth,\n",
        "        edgecolor ='grey', label ='Recall')\n",
        "plt.bar(br2, total_precision, color ='g', width = barWidth,\n",
        "        edgecolor ='grey', label ='Precision')\n",
        "plt.bar(br3, total_fScore, color ='b', width = barWidth,\n",
        "        edgecolor ='grey', label ='F1Score')\n",
        "\n",
        "plt.xlabel('Models', fontweight ='bold', fontsize = 15)\n",
        "plt.ylabel('Metrics', fontweight ='bold', fontsize = 15)\n",
        "plt.xticks([r + barWidth for r in range(5)],['SVM', 'RandForest', 'L.R', 'AdaB', 'XGB'])\n",
        " \n",
        "plt.legend()\n",
        "plt.show()"
      ],
      "metadata": {
        "colab": {
          "base_uri": "https://localhost:8080/",
          "height": 502
        },
        "id": "0GCOrlRPqJZf",
        "outputId": "bd97a120-9836-417c-c6f1-80aa6ad27b35"
      },
      "execution_count": null,
      "outputs": [
        {
          "output_type": "display_data",
          "data": {
            "text/plain": [
              "<Figure size 864x576 with 1 Axes>"
            ],
            "image/png": "[encoded data removed]"
          },
          "metadata": {
            "needs_background": "light"
          }
        }
      ]
    },
    {
      "cell_type": "code",
      "source": [
        ""
      ],
      "metadata": {
        "id": "PdA0GMKTrVxf"
      },
      "execution_count": null,
      "outputs": []
    }
  ]
}