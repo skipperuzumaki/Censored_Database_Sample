{
  "nbformat": 4,
  "nbformat_minor": 0,
  "metadata": {
    "colab": {
      "name": "Assinment1.ipynb",
      "provenance": [],
      "collapsed_sections": []
    },
    "kernelspec": {
      "name": "python3",
      "display_name": "Python 3"
    },
    "language_info": {
      "name": "python"
    }
  },
  "cells": [
    {
      "cell_type": "code",
      "execution_count": 1,
      "metadata": {
        "id": "5GCth8yO43Rx"
      },
      "outputs": [],
      "source": [
        "import re\n",
        "def snt_tokenize(a):\n",
        "  return re.split(r'(?<!\\w\\.\\w.)(?<![A-Z][a-z]\\.)(?<=\\.|\\?)\\s', a) # Accounting for abbreviation\n",
        "def word_tokenize(b):\n",
        "\treturn b.split(' ')\n",
        "\n",
        "def word_count(a):\n",
        "\tb = {}\n",
        "\tfor _ in a:\n",
        "\t\ttry:\n",
        "\t\t\tb[_]+=1\n",
        "\t\texcept:\n",
        "\t\t\tb[_] = 1\n",
        "\treturn b"
      ]
    },
    {
      "cell_type": "code",
      "source": [
        "with open('corpus.txt', 'r') as f:\n",
        "  text = f.read()\n",
        "print(text)"
      ],
      "metadata": {
        "colab": {
          "base_uri": "https://localhost:8080/"
        },
        "id": "ahRHYVxj49Ls",
        "outputId": "92a5a5bc-6918-49ae-aefa-1f8984d4ff4e"
      },
      "execution_count": 2,
      "outputs": [
        {
          "output_type": "stream",
          "name": "stdout",
          "text": [
            "Hubbard M.D. was born in a cabin in what were then the outskirts of Toronto, in a rural area called \"the Bush\" near the intersection of what are now Bloor Street and Bathurst Street. His parents were refugee American slaves who had escaped their plantation in Virginia and reached Canada in 1840 via the Underground Railroad. Raised a devout Anglican, Hubbard was trained as a baker at the Toronto Normal School. He invented and patented a successful commercial baker's oven, the Hubbard Portable. By his thirties, he had married Julia Luckett.\n",
            "After having worked 16 years as a baker, he joined his uncle's horse-drawn livery taxi service. According to what may be an apocryphal story, one winter night, he rescued another cab and its occupant, newspaper publisher George Brown, from drowning in the Don River. A grateful Brown hired Hubbard as his driver. Hubbard himself, however, said that he was not present at the accident but that the incident upset Brown so much that Hubbard agreed to become Brown's driver as a favour to his brother, who operated the livery service that Brown used. Regardless of which version is correct, Brown and Hubbard became friends and the publisher later encouraged Hubbard to seek public office. His lifelong friend was Anderson Ruffin Abbott, Canada's first black physician. \n"
          ]
        }
      ]
    },
    {
      "cell_type": "code",
      "source": [
        "sntenses = snt_tokenize(text)\n",
        "\n",
        "words = word_tokenize(text)"
      ],
      "metadata": {
        "id": "hjdTGiAR5fSa"
      },
      "execution_count": 3,
      "outputs": []
    },
    {
      "cell_type": "code",
      "source": [
        "print('WORDS : ')\n",
        "print(words)\n",
        "print('WORD COUNT : ')\n",
        "print(word_count(words))\n",
        "print(\"VOCABULARY SIZE = \" + str(len(set(words))))\n",
        "print(\"SNTENSE COUNT = \" + str(len(sntenses)))"
      ],
      "metadata": {
        "colab": {
          "base_uri": "https://localhost:8080/"
        },
        "id": "MuEFBUy55lDD",
        "outputId": "90db727a-9690-43f1-840a-81b8331333db"
      },
      "execution_count": 4,
      "outputs": [
        {
          "output_type": "stream",
          "name": "stdout",
          "text": [
            "WORDS : \n",
            "['Hubbard', 'M.D.', 'was', 'born', 'in', 'a', 'cabin', 'in', 'what', 'were', 'then', 'the', 'outskirts', 'of', 'Toronto,', 'in', 'a', 'rural', 'area', 'called', '\"the', 'Bush\"', 'near', 'the', 'intersection', 'of', 'what', 'are', 'now', 'Bloor', 'Street', 'and', 'Bathurst', 'Street.', 'His', 'parents', 'were', 'refugee', 'American', 'slaves', 'who', 'had', 'escaped', 'their', 'plantation', 'in', 'Virginia', 'and', 'reached', 'Canada', 'in', '1840', 'via', 'the', 'Underground', 'Railroad.', 'Raised', 'a', 'devout', 'Anglican,', 'Hubbard', 'was', 'trained', 'as', 'a', 'baker', 'at', 'the', 'Toronto', 'Normal', 'School.', 'He', 'invented', 'and', 'patented', 'a', 'successful', 'commercial', \"baker's\", 'oven,', 'the', 'Hubbard', 'Portable.', 'By', 'his', 'thirties,', 'he', 'had', 'married', 'Julia', 'Luckett.\\nAfter', 'having', 'worked', '16', 'years', 'as', 'a', 'baker,', 'he', 'joined', 'his', \"uncle's\", 'horse-drawn', 'livery', 'taxi', 'service.', 'According', 'to', 'what', 'may', 'be', 'an', 'apocryphal', 'story,', 'one', 'winter', 'night,', 'he', 'rescued', 'another', 'cab', 'and', 'its', 'occupant,', 'newspaper', 'publisher', 'George', 'Brown,', 'from', 'drowning', 'in', 'the', 'Don', 'River.', 'A', 'grateful', 'Brown', 'hired', 'Hubbard', 'as', 'his', 'driver.', 'Hubbard', 'himself,', 'however,', 'said', 'that', 'he', 'was', 'not', 'present', 'at', 'the', 'accident', 'but', 'that', 'the', 'incident', 'upset', 'Brown', 'so', 'much', 'that', 'Hubbard', 'agreed', 'to', 'become', \"Brown's\", 'driver', 'as', 'a', 'favour', 'to', 'his', 'brother,', 'who', 'operated', 'the', 'livery', 'service', 'that', 'Brown', 'used.', 'Regardless', 'of', 'which', 'version', 'is', 'correct,', 'Brown', 'and', 'Hubbard', 'became', 'friends', 'and', 'the', 'publisher', 'later', 'encouraged', 'Hubbard', 'to', 'seek', 'public', 'office.', 'His', 'lifelong', 'friend', 'was', 'Anderson', 'Ruffin', 'Abbott,', \"Canada's\", 'first', 'black', 'physician.', '']\n",
            "WORD COUNT : \n",
            "{'Hubbard': 8, 'M.D.': 1, 'was': 4, 'born': 1, 'in': 6, 'a': 7, 'cabin': 1, 'what': 3, 'were': 2, 'then': 1, 'the': 10, 'outskirts': 1, 'of': 3, 'Toronto,': 1, 'rural': 1, 'area': 1, 'called': 1, '\"the': 1, 'Bush\"': 1, 'near': 1, 'intersection': 1, 'are': 1, 'now': 1, 'Bloor': 1, 'Street': 1, 'and': 6, 'Bathurst': 1, 'Street.': 1, 'His': 2, 'parents': 1, 'refugee': 1, 'American': 1, 'slaves': 1, 'who': 2, 'had': 2, 'escaped': 1, 'their': 1, 'plantation': 1, 'Virginia': 1, 'reached': 1, 'Canada': 1, '1840': 1, 'via': 1, 'Underground': 1, 'Railroad.': 1, 'Raised': 1, 'devout': 1, 'Anglican,': 1, 'trained': 1, 'as': 4, 'baker': 1, 'at': 2, 'Toronto': 1, 'Normal': 1, 'School.': 1, 'He': 1, 'invented': 1, 'patented': 1, 'successful': 1, 'commercial': 1, \"baker's\": 1, 'oven,': 1, 'Portable.': 1, 'By': 1, 'his': 4, 'thirties,': 1, 'he': 4, 'married': 1, 'Julia': 1, 'Luckett.\\nAfter': 1, 'having': 1, 'worked': 1, '16': 1, 'years': 1, 'baker,': 1, 'joined': 1, \"uncle's\": 1, 'horse-drawn': 1, 'livery': 2, 'taxi': 1, 'service.': 1, 'According': 1, 'to': 4, 'may': 1, 'be': 1, 'an': 1, 'apocryphal': 1, 'story,': 1, 'one': 1, 'winter': 1, 'night,': 1, 'rescued': 1, 'another': 1, 'cab': 1, 'its': 1, 'occupant,': 1, 'newspaper': 1, 'publisher': 2, 'George': 1, 'Brown,': 1, 'from': 1, 'drowning': 1, 'Don': 1, 'River.': 1, 'A': 1, 'grateful': 1, 'Brown': 4, 'hired': 1, 'driver.': 1, 'himself,': 1, 'however,': 1, 'said': 1, 'that': 4, 'not': 1, 'present': 1, 'accident': 1, 'but': 1, 'incident': 1, 'upset': 1, 'so': 1, 'much': 1, 'agreed': 1, 'become': 1, \"Brown's\": 1, 'driver': 1, 'favour': 1, 'brother,': 1, 'operated': 1, 'service': 1, 'used.': 1, 'Regardless': 1, 'which': 1, 'version': 1, 'is': 1, 'correct,': 1, 'became': 1, 'friends': 1, 'later': 1, 'encouraged': 1, 'seek': 1, 'public': 1, 'office.': 1, 'lifelong': 1, 'friend': 1, 'Anderson': 1, 'Ruffin': 1, 'Abbott,': 1, \"Canada's\": 1, 'first': 1, 'black': 1, 'physician.': 1, '': 1}\n",
            "VOCABULARY SIZE = 152\n",
            "SNTENSE COUNT = 12\n"
          ]
        }
      ]
    },
    {
      "cell_type": "code",
      "source": [
        "sntenses = set(sntenses)\n",
        "\n",
        "with open('snt.csv', 'w') as f:\n",
        "\ti = 0\n",
        "\tfor _ in sntenses:\n",
        "\t\tf.write(str(i) + ',' + _ + '\\n')\n",
        "\t\ti+=1\n"
      ],
      "metadata": {
        "id": "fGAzmID05oTP"
      },
      "execution_count": 5,
      "outputs": []
    },
    {
      "cell_type": "code",
      "source": [
        "with open('snt.csv', 'r') as f:\n",
        "  print(f.read())"
      ],
      "metadata": {
        "colab": {
          "base_uri": "https://localhost:8080/"
        },
        "id": "1q2iJ9b95qiD",
        "outputId": "d257fdb3-ff4f-4594-90f9-d807db6b6bf0"
      },
      "execution_count": 6,
      "outputs": [
        {
          "output_type": "stream",
          "name": "stdout",
          "text": [
            "0,By his thirties, he had married Julia Luckett.\n",
            "1,\n",
            "2,Raised a devout Anglican, Hubbard was trained as a baker at the Toronto Normal School.\n",
            "3,According to what may be an apocryphal story, one winter night, he rescued another cab and its occupant, newspaper publisher George Brown, from drowning in the Don River.\n",
            "4,His parents were refugee American slaves who had escaped their plantation in Virginia and reached Canada in 1840 via the Underground Railroad.\n",
            "5,His lifelong friend was Anderson Ruffin Abbott, Canada's first black physician.\n",
            "6,Hubbard M.D. was born in a cabin in what were then the outskirts of Toronto, in a rural area called \"the Bush\" near the intersection of what are now Bloor Street and Bathurst Street.\n",
            "7,He invented and patented a successful commercial baker's oven, the Hubbard Portable.\n",
            "8,A grateful Brown hired Hubbard as his driver.\n",
            "9,Hubbard himself, however, said that he was not present at the accident but that the incident upset Brown so much that Hubbard agreed to become Brown's driver as a favour to his brother, who operated the livery service that Brown used.\n",
            "10,Regardless of which version is correct, Brown and Hubbard became friends and the publisher later encouraged Hubbard to seek public office.\n",
            "11,After having worked 16 years as a baker, he joined his uncle's horse-drawn livery taxi service.\n",
            "\n"
          ]
        }
      ]
    },
    {
      "cell_type": "code",
      "source": [
        ""
      ],
      "metadata": {
        "id": "fH7zjByo5yea"
      },
      "execution_count": 6,
      "outputs": []
    }
  ]
}