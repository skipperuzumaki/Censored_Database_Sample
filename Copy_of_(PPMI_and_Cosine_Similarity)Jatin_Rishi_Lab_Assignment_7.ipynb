{
  "nbformat": 4,
  "nbformat_minor": 0,
  "metadata": {
    "colab": {
      "name": "Copy of (PPMI and Cosine Similarity)Jatin_Rishi_Lab_Assignment_7.ipynb",
      "provenance": [],
      "collapsed_sections": [],
      "include_colab_link": true
    },
    "kernelspec": {
      "name": "python3",
      "display_name": "Python 3"
    },
    "language_info": {
      "name": "python"
    }
  },
  "cells": [
    {
      "cell_type": "markdown",
      "metadata": {
        "id": "view-in-github",
        "colab_type": "text"
      },
      "source": [
        "<a href=\"https://colab.research.google.com/github/skipperuzumaki/Censored_Database_Sample/blob/main/Copy_of_(PPMI_and_Cosine_Similarity)Jatin_Rishi_Lab_Assignment_7.ipynb\" target=\"_parent\"><img src=\"https://colab.research.google.com/assets/colab-badge.svg\" alt=\"Open In Colab\"/></a>"
      ]
    },
    {
      "cell_type": "code",
      "execution_count": null,
      "metadata": {
        "colab": {
          "base_uri": "https://localhost:8080/"
        },
        "id": "NoGZJbMeYYHM",
        "outputId": "d3b34ded-f84b-42a7-c109-f50485fb05d7"
      },
      "outputs": [
        {
          "output_type": "stream",
          "name": "stdout",
          "text": [
            "['he', 'is', 'not', 'lazy', 'he', 'is', 'intelligent', 'he', 'is', 'smart']\n",
            "{'intelligent', 'lazy', 'smart', 'is', 'he', 'not'}\n"
          ]
        }
      ],
      "source": [
        "import re\n",
        "import math\n",
        "\n",
        "sentence2 = \"I like deep learning, I like NLP, I enjoy flying\" \n",
        "sentence = \"He is not lazy. He is intelligent. He is smart.\" \n",
        "removed_punct = re.sub(r\"[^a-zA-Z0-9 ]\", \"\", sentence).lower()\n",
        "\n",
        "print(removed_punct.split())\n",
        "\n",
        "vocab = set(removed_punct.split())\n",
        "ordered_vocab = removed_punct.split()\n",
        "\n",
        "\n",
        "print(vocab)"
      ]
    },
    {
      "cell_type": "code",
      "source": [
        "myDict = dict()\n",
        "\n",
        "\n",
        "\n",
        "windowSize = int(input(\"Enter window size ->  \"))\n",
        "cntr=0\n",
        "\n",
        "for item in vocab:\n",
        "  myDict[item] = cntr\n",
        "  cntr+=1\n",
        "\n",
        "matrix = list()\n",
        "\n",
        "for i in range(len(vocab)):\n",
        "  matrix.append([0]*len(vocab))\n",
        "\n",
        "for i in range(0,len(ordered_vocab)):\n",
        "  prev=i-1\n",
        "  next=i+1\n",
        "  k = windowSize\n",
        "  while(prev>=0 and k>0):\n",
        "    matrix[myDict[ordered_vocab[i]]][myDict[ordered_vocab[prev]]]+=1\n",
        "    prev-=1\n",
        "    k-=1\n",
        "  \n",
        "  k = windowSize\n",
        "  while(next<len(ordered_vocab) and k>0):\n",
        "    matrix[myDict[ordered_vocab[i]]][myDict[ordered_vocab[next]]]+=1\n",
        "    next+=1\n",
        "    k-=1\n",
        "\n",
        "\n",
        "\n",
        "for item in vocab:\n",
        "  print(item,end=\"   \")\n",
        "\n",
        "print()\n",
        "for row in matrix:\n",
        "  for el in row:\n",
        "    print(el,end= \"\\t\")\n",
        "  \n",
        "  print()\n"
      ],
      "metadata": {
        "colab": {
          "base_uri": "https://localhost:8080/"
        },
        "id": "Z3M4vWH-YgG5",
        "outputId": "7d6f4e3f-48df-41e9-fd18-711aada217e6"
      },
      "execution_count": null,
      "outputs": [
        {
          "output_type": "stream",
          "name": "stdout",
          "text": [
            "Enter window size ->  2\n",
            "intelligent   lazy   smart   is   he   not   \n",
            "0\t0\t0\t2\t2\t0\t\n",
            "0\t0\t0\t2\t1\t1\t\n",
            "0\t0\t0\t1\t1\t0\t\n",
            "2\t2\t1\t0\t4\t1\t\n",
            "2\t1\t1\t4\t0\t2\t\n",
            "0\t1\t0\t1\t2\t0\t\n"
          ]
        }
      ]
    },
    {
      "cell_type": "code",
      "source": [
        "def computePMI(pwc,pw,pc):\n",
        "  try:\n",
        "    pmi = math.log((pwc/(pw*pc)))\n",
        "    if(pmi<0):\n",
        "      return 0\n",
        "\n",
        "    return pmi\n",
        "  \n",
        "  except:\n",
        "    return 0\n",
        "\n",
        "ppmi_matrix = list()\n",
        "\n",
        "for i in range(len(vocab)):\n",
        "  ppmi_matrix.append([0]*len(vocab))\n",
        "\n",
        "\n",
        "\n",
        "\n",
        "total = 0\n",
        "\n",
        "for i in matrix:\n",
        "  for el in i:\n",
        "    total+= el\n",
        "\n",
        "itr=1\n",
        "\n",
        "for i in vocab:\n",
        "  for j in vocab:\n",
        "\n",
        "    x = myDict[i]\n",
        "    y = myDict[j]\n",
        "\n",
        "    pwc = matrix[x][y]/total\n",
        "\n",
        "    pc = 0\n",
        "    pw = 0\n",
        "    \n",
        "    for el in range(len(matrix)):\n",
        "      pc+= matrix[el][y]\n",
        "      pw+= matrix[x][el]\n",
        "\n",
        "    pc = pc /total\n",
        "    pw = pw /total\n",
        "\n",
        "    print(f\"Iteration {itr} ----> {round(pwc,2)}-----{round(pw,2)}-----{round(pc,2)} \" )\n",
        "    itr+=1\n",
        "    ppmi_matrix[x][y] = computePMI(pwc,pw,pc) \n",
        "\n",
        "\n",
        "\n",
        "print(\"\\nPPMI Matrix\\n \")\n",
        "\n",
        "for row in ppmi_matrix:\n",
        "  for el in row:\n",
        "    print(round(el,2),end =\"\\t\")\n",
        "  print()\n",
        "\n"
      ],
      "metadata": {
        "colab": {
          "base_uri": "https://localhost:8080/"
        },
        "id": "kQOzveT3Y6Hj",
        "outputId": "12e94cdf-5c09-4944-aed2-edbbcf09c7a5"
      },
      "execution_count": null,
      "outputs": [
        {
          "output_type": "stream",
          "name": "stdout",
          "text": [
            "Iteration 1 ----> 0.0-----0.12-----0.12 \n",
            "Iteration 2 ----> 0.0-----0.12-----0.12 \n",
            "Iteration 3 ----> 0.0-----0.12-----0.06 \n",
            "Iteration 4 ----> 0.06-----0.12-----0.29 \n",
            "Iteration 5 ----> 0.06-----0.12-----0.29 \n",
            "Iteration 6 ----> 0.0-----0.12-----0.12 \n",
            "Iteration 7 ----> 0.0-----0.12-----0.12 \n",
            "Iteration 8 ----> 0.0-----0.12-----0.12 \n",
            "Iteration 9 ----> 0.0-----0.12-----0.06 \n",
            "Iteration 10 ----> 0.06-----0.12-----0.29 \n",
            "Iteration 11 ----> 0.03-----0.12-----0.29 \n",
            "Iteration 12 ----> 0.03-----0.12-----0.12 \n",
            "Iteration 13 ----> 0.0-----0.06-----0.12 \n",
            "Iteration 14 ----> 0.0-----0.06-----0.12 \n",
            "Iteration 15 ----> 0.0-----0.06-----0.06 \n",
            "Iteration 16 ----> 0.03-----0.06-----0.29 \n",
            "Iteration 17 ----> 0.03-----0.06-----0.29 \n",
            "Iteration 18 ----> 0.0-----0.06-----0.12 \n",
            "Iteration 19 ----> 0.06-----0.29-----0.12 \n",
            "Iteration 20 ----> 0.06-----0.29-----0.12 \n",
            "Iteration 21 ----> 0.03-----0.29-----0.06 \n",
            "Iteration 22 ----> 0.0-----0.29-----0.29 \n",
            "Iteration 23 ----> 0.12-----0.29-----0.29 \n",
            "Iteration 24 ----> 0.03-----0.29-----0.12 \n",
            "Iteration 25 ----> 0.06-----0.29-----0.12 \n",
            "Iteration 26 ----> 0.03-----0.29-----0.12 \n",
            "Iteration 27 ----> 0.03-----0.29-----0.06 \n",
            "Iteration 28 ----> 0.12-----0.29-----0.29 \n",
            "Iteration 29 ----> 0.0-----0.29-----0.29 \n",
            "Iteration 30 ----> 0.06-----0.29-----0.12 \n",
            "Iteration 31 ----> 0.0-----0.12-----0.12 \n",
            "Iteration 32 ----> 0.03-----0.12-----0.12 \n",
            "Iteration 33 ----> 0.0-----0.12-----0.06 \n",
            "Iteration 34 ----> 0.03-----0.12-----0.29 \n",
            "Iteration 35 ----> 0.06-----0.12-----0.29 \n",
            "Iteration 36 ----> 0.0-----0.12-----0.12 \n",
            "\n",
            "PPMI Matrix\n",
            " \n",
            "0\t0\t0\t0.53\t0.53\t0\t\n",
            "0\t0\t0\t0.53\t0\t0.75\t\n",
            "0\t0\t0\t0.53\t0.53\t0\t\n",
            "0.53\t0.53\t0.53\t0\t0.31\t0\t\n",
            "0.53\t0\t0.53\t0.31\t0\t0.53\t\n",
            "0\t0.75\t0\t0\t0.53\t0\t\n"
          ]
        }
      ]
    },
    {
      "cell_type": "code",
      "source": [
        "doc_1 = \"Data is the oil of the digital economy\" \n",
        "doc_2 = \"Data is a new oil\"\n",
        "\n",
        "doc_vector = dict()\n",
        "\n",
        "\n",
        "cosine_vocab = set(doc_1.split(' ')).union(set(doc_2.split(' ')))\n",
        "\n",
        "print(cosine_vocab)\n",
        "\n",
        "\n",
        "for item in cosine_vocab:\n",
        "  count1 = 0\n",
        "  count2 = 0\n",
        "\n",
        "  for word in doc_1.split(' '):\n",
        "    if(word==item):\n",
        "      count1+=1\n",
        "    \n",
        "  for word in doc_2.split(' '):\n",
        "    if(word==item):\n",
        "      count2+=1\n",
        "  \n",
        "  doc_vector[item] = (count1,count2)\n",
        "\n",
        "\n",
        "aibi = 0\n",
        "aisq = 0\n",
        "bisq = 0\n",
        "\n",
        "for item in doc_vector:\n",
        "  aibi+= doc_vector[item][0] * doc_vector[item][1]\n",
        "  aisq+= doc_vector[item][0]**2\n",
        "  bisq+= doc_vector[item][1]**2\n",
        "\n",
        "aisq = math.sqrt(aisq)\n",
        "bisq = math.sqrt(bisq)\n",
        "\n",
        "\n",
        "cosine_sim = aibi/(aisq*bisq)\n",
        "print(\"Cosine Similarity -> \",end=\"\")\n",
        "print(cosine_sim)\n",
        "\n"
      ],
      "metadata": {
        "colab": {
          "base_uri": "https://localhost:8080/"
        },
        "id": "-xVklSKcZEuU",
        "outputId": "95206863-9369-4784-f643-0ddf0fb525c3"
      },
      "execution_count": null,
      "outputs": [
        {
          "output_type": "stream",
          "name": "stdout",
          "text": [
            "{'a', 'digital', 'is', 'economy', 'oil', 'Data', 'the', 'of', 'new'}\n",
            "Cosine Similarity -> 0.42426406871192845\n"
          ]
        }
      ]
    }
  ]
}